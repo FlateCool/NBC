{
  "cells": [
    {
      "cell_type": "markdown",
      "id": "00009cca",
      "metadata": {
        "id": "00009cca"
      },
      "source": [
        "# Классификация текстов с использованием Наивного Байесовского Классификатора"
      ]
    },
    {
      "cell_type": "code",
      "execution_count": 41,
      "metadata": {},
      "outputs": [],
      "source": [
        "import pandas as pd\n",
        "import seaborn as sns\n",
        "import matplotlib.pyplot as plt\n",
        "import numpy as np\n",
        "from sklearn.model_selection import train_test_split\n",
        "from sklearn.naive_bayes import ComplementNB\n",
        "from sklearn.metrics import accuracy_score\n",
        "from sklearn.metrics import precision_score\n",
        "from sklearn.metrics import recall_score\n",
        "from sklearn.metrics import f1_score\n",
        "from sklearn.metrics import roc_curve\n",
        "import matplotlib.pyplot as plt\n",
        "from sklearn.model_selection import GridSearchCV\n",
        "from sklearn.model_selection import cross_val_score\n",
        "from hyperopt import hp, fmin, tpe, Trials \n"
      ]
    },
    {
      "cell_type": "markdown",
      "id": "a52414b8",
      "metadata": {
        "id": "a52414b8"
      },
      "source": [
        "## Задание 1 (1 балл)"
      ]
    },
    {
      "cell_type": "markdown",
      "id": "f5f27b43",
      "metadata": {
        "id": "f5f27b43"
      },
      "source": [
        "Откройте данные. Узнайте, сколько в них спам- и не спам-писем. Визуализируйте полученные соотношение подходящим образом."
      ]
    },
    {
      "cell_type": "code",
      "execution_count": 42,
      "id": "ac369274",
      "metadata": {
        "id": "ac369274"
      },
      "outputs": [
        {
          "data": {
            "text/html": [
              "<div>\n",
              "<style scoped>\n",
              "    .dataframe tbody tr th:only-of-type {\n",
              "        vertical-align: middle;\n",
              "    }\n",
              "\n",
              "    .dataframe tbody tr th {\n",
              "        vertical-align: top;\n",
              "    }\n",
              "\n",
              "    .dataframe thead th {\n",
              "        text-align: right;\n",
              "    }\n",
              "</style>\n",
              "<table border=\"1\" class=\"dataframe\">\n",
              "  <thead>\n",
              "    <tr style=\"text-align: right;\">\n",
              "      <th></th>\n",
              "      <th>email</th>\n",
              "      <th>label</th>\n",
              "    </tr>\n",
              "  </thead>\n",
              "  <tbody>\n",
              "    <tr>\n",
              "      <th>0</th>\n",
              "      <td>date wed NUMBER aug NUMBER NUMBER NUMBER NUMB...</td>\n",
              "      <td>0</td>\n",
              "    </tr>\n",
              "    <tr>\n",
              "      <th>1</th>\n",
              "      <td>martin a posted tassos papadopoulos the greek ...</td>\n",
              "      <td>0</td>\n",
              "    </tr>\n",
              "    <tr>\n",
              "      <th>2</th>\n",
              "      <td>man threatens explosion in moscow thursday aug...</td>\n",
              "      <td>0</td>\n",
              "    </tr>\n",
              "    <tr>\n",
              "      <th>3</th>\n",
              "      <td>klez the virus that won t die already the most...</td>\n",
              "      <td>0</td>\n",
              "    </tr>\n",
              "    <tr>\n",
              "      <th>4</th>\n",
              "      <td>in adding cream to spaghetti carbonara which ...</td>\n",
              "      <td>0</td>\n",
              "    </tr>\n",
              "    <tr>\n",
              "      <th>...</th>\n",
              "      <td>...</td>\n",
              "      <td>...</td>\n",
              "    </tr>\n",
              "    <tr>\n",
              "      <th>2995</th>\n",
              "      <td>abc s good morning america ranks it the NUMBE...</td>\n",
              "      <td>1</td>\n",
              "    </tr>\n",
              "    <tr>\n",
              "      <th>2996</th>\n",
              "      <td>hyperlink hyperlink hyperlink let mortgage le...</td>\n",
              "      <td>1</td>\n",
              "    </tr>\n",
              "    <tr>\n",
              "      <th>2997</th>\n",
              "      <td>thank you for shopping with us gifts for all ...</td>\n",
              "      <td>1</td>\n",
              "    </tr>\n",
              "    <tr>\n",
              "      <th>2998</th>\n",
              "      <td>the famous ebay marketing e course learn to s...</td>\n",
              "      <td>1</td>\n",
              "    </tr>\n",
              "    <tr>\n",
              "      <th>2999</th>\n",
              "      <td>hello this is chinese traditional 子 件 NUMBER世...</td>\n",
              "      <td>1</td>\n",
              "    </tr>\n",
              "  </tbody>\n",
              "</table>\n",
              "<p>3000 rows × 2 columns</p>\n",
              "</div>"
            ],
            "text/plain": [
              "                                                  email  label\n",
              "0      date wed NUMBER aug NUMBER NUMBER NUMBER NUMB...      0\n",
              "1     martin a posted tassos papadopoulos the greek ...      0\n",
              "2     man threatens explosion in moscow thursday aug...      0\n",
              "3     klez the virus that won t die already the most...      0\n",
              "4      in adding cream to spaghetti carbonara which ...      0\n",
              "...                                                 ...    ...\n",
              "2995   abc s good morning america ranks it the NUMBE...      1\n",
              "2996   hyperlink hyperlink hyperlink let mortgage le...      1\n",
              "2997   thank you for shopping with us gifts for all ...      1\n",
              "2998   the famous ebay marketing e course learn to s...      1\n",
              "2999   hello this is chinese traditional 子 件 NUMBER世...      1\n",
              "\n",
              "[3000 rows x 2 columns]"
            ]
          },
          "execution_count": 42,
          "metadata": {},
          "output_type": "execute_result"
        }
      ],
      "source": [
        "emails = pd.read_csv('./spam_or_not_spam.csv')\n",
        "emails"
      ]
    },
    {
      "cell_type": "code",
      "execution_count": 43,
      "id": "f4231781",
      "metadata": {
        "id": "f4231781"
      },
      "outputs": [
        {
          "data": {
            "text/plain": [
              "label\n",
              "0    2500\n",
              "1     500\n",
              "Name: count, dtype: int64"
            ]
          },
          "execution_count": 43,
          "metadata": {},
          "output_type": "execute_result"
        }
      ],
      "source": [
        "proportion = emails['label'].value_counts()\n",
        "proportion"
      ]
    },
    {
      "cell_type": "code",
      "execution_count": 44,
      "id": "9b871636",
      "metadata": {
        "id": "9b871636"
      },
      "outputs": [
        {
          "data": {
            "image/png": "[encoded data removed]",
            "text/plain": [
              "<Figure size 640x480 with 1 Axes>"
            ]
          },
          "metadata": {},
          "output_type": "display_data"
        }
      ],
      "source": [
        "labels = ['Ham', 'Spam']\n",
        "plt.pie(proportion, labels=labels, autopct='%.0f%%')\n",
        "plt.title('Соотношение классов')\n",
        "plt.show()\n"
      ]
    },
    {
      "cell_type": "markdown",
      "id": "b161614b",
      "metadata": {
        "id": "b161614b"
      },
      "source": [
        "## Задание 2 (2 балла)"
      ]
    },
    {
      "cell_type": "markdown",
      "id": "dd29763b",
      "metadata": {
        "id": "dd29763b"
      },
      "source": [
        "Вам необходимо предобработать ваши данные и перевести их в векторный вид. Подгрузим необходимый модуль:"
      ]
    },
    {
      "cell_type": "code",
      "execution_count": 45,
      "id": "382eac9c",
      "metadata": {
        "id": "382eac9c"
      },
      "outputs": [],
      "source": [
        "from sklearn.feature_extraction.text import CountVectorizer"
      ]
    },
    {
      "cell_type": "markdown",
      "id": "89546b95",
      "metadata": {
        "id": "89546b95"
      },
      "source": [
        "Замените в данных все пустые строки и строки, состоящие из пробелов, на пропуски (NaN). После этого удалите из данных все строки, в которых наблюдаются пропущенные значения."
      ]
    },
    {
      "cell_type": "code",
      "execution_count": 46,
      "id": "45180f82",
      "metadata": {
        "id": "45180f82"
      },
      "outputs": [],
      "source": [
        "emails_clean = emails.copy()\n",
        "'''''\n",
        "'\\s+' - данный шаблон регулярного выражения:\n",
        "1) заменит несколько идущих подряд пробельных символов между словами на один пробел;\n",
        "2) строку, состоящую из одник пробелов заменит на один пробел\n",
        "'''''\n",
        "emails_clean['email'] = emails_clean['email'].str.replace('\\s+', ' ')\n",
        "# помечаем строки, состоящие из пробела как NaN\n",
        "emails_clean[emails_clean['email'] == ' '] = np.nan\n",
        "# помечаем пустые строки как NaN\n",
        "emails_clean[emails_clean['email'] == ''] = np.nan\n",
        "# удаляем строки с пропущенными значениями\n",
        "emails_clean = emails_clean.dropna(subset=['email'])\n",
        "emails_clean;"
      ]
    },
    {
      "cell_type": "markdown",
      "id": "2ca2fe88",
      "metadata": {
        "id": "2ca2fe88"
      },
      "source": [
        "Переводим данные в векторный вид:"
      ]
    },
    {
      "cell_type": "code",
      "execution_count": 47,
      "id": "29e9a37b",
      "metadata": {
        "id": "29e9a37b"
      },
      "outputs": [
        {
          "data": {
            "text/plain": [
              "array([[0, 0, 0, ..., 0, 0, 0],\n",
              "       [0, 0, 0, ..., 0, 0, 0],\n",
              "       [0, 0, 0, ..., 0, 0, 0],\n",
              "       ...,\n",
              "       [0, 0, 0, ..., 0, 0, 0],\n",
              "       [0, 0, 0, ..., 0, 0, 0],\n",
              "       [0, 0, 0, ..., 0, 0, 1]], dtype=int64)"
            ]
          },
          "execution_count": 47,
          "metadata": {},
          "output_type": "execute_result"
        }
      ],
      "source": [
        "vectorizer = CountVectorizer()\n",
        "X = vectorizer.fit_transform(emails_clean[\"email\"])\n",
        "X.toarray()"
      ]
    },
    {
      "cell_type": "markdown",
      "id": "88c8b726",
      "metadata": {
        "id": "88c8b726"
      },
      "source": [
        "Определите, сколько теперь признаков в нашем наборе данных:"
      ]
    },
    {
      "cell_type": "code",
      "execution_count": 48,
      "id": "f19c2a02",
      "metadata": {
        "id": "f19c2a02"
      },
      "outputs": [
        {
          "data": {
            "text/plain": [
              "34116"
            ]
          },
          "execution_count": 48,
          "metadata": {},
          "output_type": "execute_result"
        }
      ],
      "source": [
        "X.shape[1]"
      ]
    },
    {
      "cell_type": "markdown",
      "id": "1803f282",
      "metadata": {
        "id": "1803f282"
      },
      "source": [
        "## Задание 3 (2 балла)"
      ]
    },
    {
      "cell_type": "markdown",
      "id": "39f400b7",
      "metadata": {
        "id": "39f400b7"
      },
      "source": [
        "Определите целевую переменную и признаки:"
      ]
    },
    {
      "cell_type": "code",
      "execution_count": 49,
      "id": "31f1acb6",
      "metadata": {
        "id": "31f1acb6"
      },
      "outputs": [],
      "source": [
        "X = X.toarray()\n",
        "y = emails_clean['label']"
      ]
    },
    {
      "cell_type": "markdown",
      "id": "b20f273e",
      "metadata": {
        "id": "b20f273e"
      },
      "source": [
        "Разделите выборку на обучающую и тестовую, используя стратифицированное разбиение (параметр `stratify` установите в значение вектора ответов y) размер тестовой выборки (`test_size`) возьмите как 0.25, параметр `random_state` определите со значением 42:"
      ]
    },
    {
      "cell_type": "code",
      "execution_count": 50,
      "id": "96538fb6",
      "metadata": {
        "id": "96538fb6"
      },
      "outputs": [],
      "source": [
        "X_train, X_test, y_train, y_test = train_test_split(X, y, test_size=0.25, stratify=y, random_state=42)"
      ]
    },
    {
      "cell_type": "markdown",
      "id": "139dac3d",
      "metadata": {
        "id": "139dac3d"
      },
      "source": [
        "Рассчитайте среднее значение целевой переменной по тестовой выборке:"
      ]
    },
    {
      "cell_type": "code",
      "execution_count": 51,
      "id": "e9baf72d",
      "metadata": {
        "id": "e9baf72d"
      },
      "outputs": [
        {
          "data": {
            "text/plain": [
              "0.165"
            ]
          },
          "execution_count": 51,
          "metadata": {},
          "output_type": "execute_result"
        }
      ],
      "source": [
        "round(y_test.mean(), 3)"
      ]
    },
    {
      "cell_type": "markdown",
      "id": "710e0e94",
      "metadata": {
        "id": "710e0e94"
      },
      "source": [
        "## Задание 4 (3 балла)"
      ]
    },
    {
      "cell_type": "markdown",
      "id": "26cf6885",
      "metadata": {
        "id": "26cf6885"
      },
      "source": [
        "Определите и обучите подходящий алгоритм с параметром alpha = 0.01"
      ]
    },
    {
      "cell_type": "code",
      "execution_count": 52,
      "id": "4865dd78",
      "metadata": {
        "id": "4865dd78"
      },
      "outputs": [
        {
          "name": "stdout",
          "output_type": "stream",
          "text": [
            "Правильных предсказаний на тестовой выборке: 98.8%\n"
          ]
        }
      ],
      "source": [
        "bayes = ComplementNB(alpha=0.01)\n",
        "bayes.fit(X_train, y_train)\n",
        "predicted = bayes.predict(X_test)\n",
        "correct = (predicted == y_test).sum() / y_test.shape[0] * 100\n",
        "print('Правильных предсказаний на тестовой выборке: {}%'.format(correct))"
      ]
    },
    {
      "cell_type": "markdown",
      "id": "d803fbe3",
      "metadata": {
        "id": "d803fbe3"
      },
      "source": [
        "Оцените результат с точки зрения всех известных вам метрик (не менее трёх):"
      ]
    },
    {
      "cell_type": "code",
      "execution_count": 53,
      "id": "b0bbc4d2",
      "metadata": {
        "id": "b0bbc4d2"
      },
      "outputs": [
        {
          "name": "stdout",
          "output_type": "stream",
          "text": [
            "Precision = 1.0 (on test sample)\n",
            "Accuracy = 0.988 (on test sample)\n",
            "Recall = 0.927 (on test sample)\n"
          ]
        }
      ],
      "source": [
        "print('Precision = {} (on test sample)'.format(round(precision_score(y_test, predicted), 3)))\n",
        "print('Accuracy = {} (on test sample)'.format(round(accuracy_score(y_test, predicted), 3)))\n",
        "print('Recall = {} (on test sample)'.format(round(recall_score(y_test, predicted), 3)))"
      ]
    },
    {
      "cell_type": "markdown",
      "id": "c85976d1",
      "metadata": {
        "id": "c85976d1"
      },
      "source": [
        "Нарисуйте ROC-кривую:"
      ]
    },
    {
      "cell_type": "code",
      "execution_count": 72,
      "id": "b4195126",
      "metadata": {
        "id": "b4195126"
      },
      "outputs": [
        {
          "data": {
            "image/png": "[encoded data removed]",
            "text/plain": [
              "<Figure size 700x700 with 1 Axes>"
            ]
          },
          "metadata": {},
          "output_type": "display_data"
        }
      ],
      "source": [
        "alphas = [0.01, 0.12, 0.23, 0.33, 0.5, 0.7, 0.8, 0.9]\n",
        "false_positive_rates = [0.0]\n",
        "true_positive_rates = [0.0]\n",
        "for alpha in alphas:\n",
        "    bayes = ComplementNB(alpha=alpha)\n",
        "    bayes.fit(X_train, y_train)\n",
        "    predicted = bayes.predict(X_test)    \n",
        "    false_positive_rate, true_positive_rate, _ = roc_curve(y_test, predicted)\n",
        "    false_positive_rates.append(false_positive_rate[1])\n",
        "    true_positive_rates.append(true_positive_rate[1])   \n",
        "false_positive_rates.append(1.0)\n",
        "true_positive_rates.append(1.0)\n",
        "# создаем график\n",
        "plt.figure(figsize=(7, 7))\n",
        "\n",
        "# рисуем кривую\n",
        "plt.plot(false_positive_rates, true_positive_rates, label='Сглаженные значения ROC-AUC')\n",
        "#plt.fill_between(false_positive_rates, true_positive_rates, step=\"pre\", alpha=0.4, label=\"Площадь под кривой (ROC-AUC)\")\n",
        "plt.title('ROC curve')\n",
        "plt.xlabel('False Positive Rate')\n",
        "plt.ylabel('True Positive Rate')\n",
        "plt.show()"
      ]
    },
    {
      "cell_type": "markdown",
      "id": "cf0bb49b",
      "metadata": {
        "id": "cf0bb49b"
      },
      "source": [
        "## Задание 5 (3 балла)"
      ]
    },
    {
      "cell_type": "markdown",
      "id": "30b7a0ae",
      "metadata": {
        "id": "30b7a0ae"
      },
      "source": [
        "Переберите несколько значений alpha с помощью кросс-валидации. Оцените, зависит ли от этого параметра качество классификации."
      ]
    },
    {
      "cell_type": "code",
      "execution_count": 71,
      "id": "3513d907",
      "metadata": {
        "id": "3513d907"
      },
      "outputs": [
        {
          "name": "stdout",
          "output_type": "stream",
          "text": [
            "100%|██████████| 20/20 [05:22<00:00, 16.13s/trial, best loss: -0.9702500284186936]\n",
            "Наилучшие значения гиперпараметров {'alpha': 0.06}\n",
            "Правильных предсказаний на тестовой выборке: 99.33333333333333%\n"
          ]
        },
        {
          "data": {
            "image/png": "[encoded data removed]",
            "text/plain": [
              "<Figure size 1000x700 with 1 Axes>"
            ]
          },
          "metadata": {},
          "output_type": "display_data"
        }
      ],
      "source": [
        "space = {'alpha': hp.quniform('alpha', 0.04, 0.06, 0.01)}\n",
        "def hyperopt_rf(params, cv=5, X=X_train, y=y_train, random_state=42):\n",
        "    params = {'alpha': float(params['alpha'])}\n",
        "    bayes = ComplementNB(**params)\n",
        "    \n",
        "    bayes.fit(X, y)\n",
        "   \n",
        "    # Применим cross_validation с тем же количеством фолдов\n",
        "    score = cross_val_score(bayes, X, y, cv=cv, scoring='f1', n_jobs=-1).mean()\n",
        "    return -score\n",
        "\n",
        "trials = Trials()\n",
        "best=fmin(\n",
        "    hyperopt_rf,\n",
        "    space=space,\n",
        "    trials=trials,\n",
        "    algo=tpe.suggest,\n",
        "    max_evals=20,\n",
        "    rstate=np.random.default_rng(42)\n",
        "          )\n",
        "print(\"Наилучшие значения гиперпараметров {}\".format(best))\n",
        "results = tpe_results=np.array([[-x['result']['loss'], x['misc']['vals']['alpha'][0]] for x in trials.trials])\n",
        "tpe_results_df=pd.DataFrame(tpe_results,\n",
        "                           columns=['f1_score', 'alpha'])\n",
        "\n",
        "results = tpe_results=np.array([[-x['result']['loss'], x['misc']['vals']['alpha'][0]] for x in trials.trials])\n",
        "tpe_results_df=pd.DataFrame(tpe_results,\n",
        "                           columns=['f1_score', 'alpha'])\n",
        "fig = plt.figure(figsize=(10, 7))\n",
        "plot = sns.lineplot(data=tpe_results_df, x='alpha', y='f1_score')\n",
        "plot.set_title('Зависимость метрики F1-score от параметра сглаживания alpha');\n",
        "\n",
        "bayes = ComplementNB(alpha=best['alpha'])\n",
        "bayes.fit(X_train, y_train)\n",
        "predicted = bayes.predict(X_test)\n",
        "correct = (predicted == y_test).sum() / y_test.shape[0] * 100\n",
        "print('Правильных предсказаний на тестовой выборке: {}%'.format(correct))"
      ]
    }
  ],
  "metadata": {
    "colab": {
      "name": "SGA_unit6_NBC.ipynb",
      "provenance": []
    },
    "kernelspec": {
      "display_name": "Python 3 (ipykernel)",
      "language": "python",
      "name": "python3"
    },
    "language_info": {
      "codemirror_mode": {
        "name": "ipython",
        "version": 3
      },
      "file_extension": ".py",
      "mimetype": "text/x-python",
      "name": "python",
      "nbconvert_exporter": "python",
      "pygments_lexer": "ipython3",
      "version": "3.11.6"
    }
  },
  "nbformat": 4,
  "nbformat_minor": 5
}
